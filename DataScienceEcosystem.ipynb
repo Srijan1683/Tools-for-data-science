{
 "cells": [
  {
   "cell_type": "markdown",
   "id": "2f455282-a18a-43ce-a9be-2d4dbe450762",
   "metadata": {},
   "source": [
    "<h1>Data Science Tools and Ecosystem</h1>"
   ]
  },
  {
   "cell_type": "markdown",
   "id": "ac7ef710-99d9-4619-9067-745cf72b10bb",
   "metadata": {},
   "source": [
    "<h2>In this notebook, Data Science Tools and Ecosystem are summarized.\n",
    "</h2>"
   ]
  },
  {
   "cell_type": "markdown",
   "id": "81ad4b6a-a59b-437f-8fbb-f21d2d75ee09",
   "metadata": {
    "tags": []
   },
   "source": [
    "<h2>Some of the popular languages that Data Scientists use are:</h2>\n",
    "<ol>\n",
    "    <li>Python</li>\n",
    "    <li>R</li>\n",
    "    <li>SQL</li>\n",
    "    <li>Java</li>\n",
    "    <li>Julia</li>\n",
    "    <li>Scala</li>\n",
    "    </ol>"
   ]
  },
  {
   "cell_type": "markdown",
   "id": "b2868f68-c3d5-49b8-90ac-f1225e61f80c",
   "metadata": {},
   "source": [
    "<h2>Some of the commonly used libraries used by Data Scientists include:\n",
    "</h2>\n",
    "\n",
    "<ol>\n",
    "    <li>Numpy</li>\n",
    "    <li>Scipy</li>\n",
    "    <li>Matplotlib</li>\n",
    "    <li>Tensorflow</li>\n",
    "    <li>SciKit Learn</li>\n",
    "    <li>ggplot</li>\n",
    "    </ol>"
   ]
  },
  {
   "cell_type": "markdown",
   "id": "13c63e56-19b6-40ac-95e3-493a4171d8c6",
   "metadata": {},
   "source": [
    "<h2>Data Science Tools</h2>\n",
    "<table>\n",
    "    <tr>\n",
    "        <th>Data Science Tools</th>\n",
    "        </tr>\n",
    "    <tr>\n",
    "        <td>SAS</td>\n",
    "    </tr>\n",
    "    <tr>\n",
    "        <td>Apache Spark</td>\n",
    "    </tr>\n",
    "    <tr>\n",
    "        <td>BigML</td>\n",
    "    </tr>\n",
    "    </table>"
   ]
  },
  {
   "cell_type": "markdown",
   "id": "cd5bba88-35ce-4041-9cc2-7ddd97064bdb",
   "metadata": {},
   "source": [
    "<h3>Below are a few examples of evaluating arithmetic expressions in Python.\n",
    "</h3>\n"
   ]
  },
  {
   "cell_type": "code",
   "execution_count": null,
   "id": "cec912e9-479b-4b07-b674-4023528e16ac",
   "metadata": {},
   "outputs": [],
   "source": []
  }
 ],
 "metadata": {
  "kernelspec": {
   "display_name": "Python",
   "language": "python",
   "name": "conda-env-python-py"
  },
  "language_info": {
   "codemirror_mode": {
    "name": "ipython",
    "version": 3
   },
   "file_extension": ".py",
   "mimetype": "text/x-python",
   "name": "python",
   "nbconvert_exporter": "python",
   "pygments_lexer": "ipython3",
   "version": "3.7.12"
  }
 },
 "nbformat": 4,
 "nbformat_minor": 5
}
